{
    "metadata": {
        "kernelspec": {
            "name": "python3",
            "display_name": "Python 3 (ipykernel)",
            "language": "python"
        },
        "language_info": {
            "name": "python",
            "version": "3.8.10",
            "mimetype": "text/x-python",
            "codemirror_mode": {
                "name": "ipython",
                "version": 3
            },
            "pygments_lexer": "ipython3",
            "nbconvert_exporter": "python",
            "file_extension": ".py"
        }
    },
    "nbformat_minor": 2,
    "nbformat": 4,
    "cells": [
        {
            "cell_type": "markdown",
            "source": [
                "# Studio: Working with Databases in Python\n",
                "\n",
                "For today's studio, we will be using the [TV Shows dataset](https://www.kaggle.com/ruchi798/tv-shows-on-netflix-prime-video-hulu-and-disney) from Kaggle. We have already downloaded the CSV for you.\n",
                "\n",
                "You will also be using the watchlist you just created to figure out which streaming services contain the shows that you want to watch next so you can decide which one is worth the money to you.\n",
                "\n",
                "As you complete the different tasks in the studio, you may choose between using Pandas or SQL. Remember that during the prep work, we learned that one is oftentimes more efficient at certain tasks than the other, so choose wisely!"
            ],
            "metadata": {
                "azdata_cell_guid": "54326aff-51cd-4766-8046-828a92489c6d"
            },
            "attachments": {}
        },
        {
            "cell_type": "markdown",
            "source": [
                "## My Watchlist\n",
                "\n",
                "If you would like, please use this space to make note of your watchlist by editing the text cell.\n",
                "\n",
                "1. SQUID GAME\n",
                "2. THE BIG BANG THEORY\n",
                "3. YOU\n",
                "4. OZARK\n",
                "5. THE SIMPSONS\n",
                "6. ONLY MURDERS IN THE BUILDING\n",
                "7. THE HAUNTING OF HILL HOUSE\n",
                "8. BRIDGERTON\n",
                "9. HOW I MET YOUR MOTHER\n",
                "10. BREAKING BAD"
            ],
            "metadata": {
                "azdata_cell_guid": "00bc62ef-6c46-40a2-bdad-a3250a003ce7"
            },
            "attachments": {}
        },
        {
            "cell_type": "markdown",
            "source": [
                "## Database Setup\n",
                "\n",
                "To start with, import the necessary libraries and create a dataframe from the provided CSV. Print the info out for the dataframe. After that, you may drop the column called `Unnamed: 0` and rename any columns with spaces in the names or unusual characters such as `\"+\"`. Print out the info for the dataframe again to ensure that your changes were effective."
            ],
            "metadata": {
                "azdata_cell_guid": "040bdac5-f7fc-474f-b112-1d807249ad0a"
            }
        },
        {
            "cell_type": "code",
            "source": [
                "import sqlite3 as sl\r\n",
                "import pandas as pd\r\n",
                "\r\n",
                "df=pd.read_csv(r\"C:\\Users\\holly\\Desktop\\DAExercises\\SQL\\Studio17_databases-and-py\\tv_shows.csv\")\r\n",
                "df.head()"
            ],
            "metadata": {
                "azdata_cell_guid": "965f15d3-27b1-43ed-97e4-8c6fd482476c",
                "tags": [],
                "language": "python"
            },
            "outputs": [
                {
                    "data": {
                        "text/plain": "   Unnamed: 0  ID             Title  Year  Age    IMDb Rotten Tomatoes  \\\n0           0   1      Breaking Bad  2008  18+  9.4/10         100/100   \n1           1   2   Stranger Things  2016  16+  8.7/10          96/100   \n2           2   3   Attack on Titan  2013  18+  9.0/10          95/100   \n3           3   4  Better Call Saul  2015  18+  8.8/10          94/100   \n4           4   5              Dark  2017  16+  8.8/10          93/100   \n\n   Netflix  Hulu  Prime Video  Disney+  Type  \n0        1     0            0        0     1  \n1        1     0            0        0     1  \n2        1     1            0        0     1  \n3        1     0            0        0     1  \n4        1     0            0        0     1  ",
                        "text/html": "<div>\n<style scoped>\n    .dataframe tbody tr th:only-of-type {\n        vertical-align: middle;\n    }\n\n    .dataframe tbody tr th {\n        vertical-align: top;\n    }\n\n    .dataframe thead th {\n        text-align: right;\n    }\n</style>\n<table border=\"1\" class=\"dataframe\">\n  <thead>\n    <tr style=\"text-align: right;\">\n      <th></th>\n      <th>Unnamed: 0</th>\n      <th>ID</th>\n      <th>Title</th>\n      <th>Year</th>\n      <th>Age</th>\n      <th>IMDb</th>\n      <th>Rotten Tomatoes</th>\n      <th>Netflix</th>\n      <th>Hulu</th>\n      <th>Prime Video</th>\n      <th>Disney+</th>\n      <th>Type</th>\n    </tr>\n  </thead>\n  <tbody>\n    <tr>\n      <th>0</th>\n      <td>0</td>\n      <td>1</td>\n      <td>Breaking Bad</td>\n      <td>2008</td>\n      <td>18+</td>\n      <td>9.4/10</td>\n      <td>100/100</td>\n      <td>1</td>\n      <td>0</td>\n      <td>0</td>\n      <td>0</td>\n      <td>1</td>\n    </tr>\n    <tr>\n      <th>1</th>\n      <td>1</td>\n      <td>2</td>\n      <td>Stranger Things</td>\n      <td>2016</td>\n      <td>16+</td>\n      <td>8.7/10</td>\n      <td>96/100</td>\n      <td>1</td>\n      <td>0</td>\n      <td>0</td>\n      <td>0</td>\n      <td>1</td>\n    </tr>\n    <tr>\n      <th>2</th>\n      <td>2</td>\n      <td>3</td>\n      <td>Attack on Titan</td>\n      <td>2013</td>\n      <td>18+</td>\n      <td>9.0/10</td>\n      <td>95/100</td>\n      <td>1</td>\n      <td>1</td>\n      <td>0</td>\n      <td>0</td>\n      <td>1</td>\n    </tr>\n    <tr>\n      <th>3</th>\n      <td>3</td>\n      <td>4</td>\n      <td>Better Call Saul</td>\n      <td>2015</td>\n      <td>18+</td>\n      <td>8.8/10</td>\n      <td>94/100</td>\n      <td>1</td>\n      <td>0</td>\n      <td>0</td>\n      <td>0</td>\n      <td>1</td>\n    </tr>\n    <tr>\n      <th>4</th>\n      <td>4</td>\n      <td>5</td>\n      <td>Dark</td>\n      <td>2017</td>\n      <td>16+</td>\n      <td>8.8/10</td>\n      <td>93/100</td>\n      <td>1</td>\n      <td>0</td>\n      <td>0</td>\n      <td>0</td>\n      <td>1</td>\n    </tr>\n  </tbody>\n</table>\n</div>"
                    },
                    "metadata": {},
                    "execution_count": 8,
                    "output_type": "execute_result"
                }
            ],
            "execution_count": 8
        },
        {
            "cell_type": "code",
            "source": [
                "df=df.drop(columns=['Unnamed: 0'], axis=1)"
            ],
            "metadata": {
                "language": "python",
                "azdata_cell_guid": "fd5a9311-da2c-4b7a-a027-07c82fc4112b"
            },
            "outputs": [],
            "execution_count": 9
        },
        {
            "cell_type": "code",
            "source": [
                "df.rename(columns={'Rotten Tomatoes':'Rotten_Tomatoes', 'Prime Video': 'Prime_Video', 'Disney+': 'Disney'}, inplace=True)\r\n",
                "\r\n",
                "df.head(10)"
            ],
            "metadata": {
                "language": "python",
                "azdata_cell_guid": "ea489077-7053-41b1-903c-d333fff7d761"
            },
            "outputs": [
                {
                    "data": {
                        "text/plain": "   ID                       Title  Year  Age    IMDb Rotten_Tomatoes  Netflix  \\\n0   1                Breaking Bad  2008  18+  9.4/10         100/100        1   \n1   2             Stranger Things  2016  16+  8.7/10          96/100        1   \n2   3             Attack on Titan  2013  18+  9.0/10          95/100        1   \n3   4            Better Call Saul  2015  18+  8.8/10          94/100        1   \n4   5                        Dark  2017  16+  8.8/10          93/100        1   \n5   6  Avatar: The Last Airbender  2005   7+  9.3/10          93/100        1   \n6   7              Peaky Blinders  2013  18+  8.8/10          93/100        1   \n7   8            The Walking Dead  2010  18+  8.2/10          93/100        1   \n8   9                Black Mirror  2011  18+  8.8/10          92/100        1   \n9  10          The Queen's Gambit  2020  18+  8.6/10          92/100        1   \n\n   Hulu  Prime_Video  Disney  Type  \n0     0            0       0     1  \n1     0            0       0     1  \n2     1            0       0     1  \n3     0            0       0     1  \n4     0            0       0     1  \n5     0            1       0     1  \n6     0            0       0     1  \n7     0            0       0     1  \n8     0            0       0     1  \n9     0            0       0     1  ",
                        "text/html": "<div>\n<style scoped>\n    .dataframe tbody tr th:only-of-type {\n        vertical-align: middle;\n    }\n\n    .dataframe tbody tr th {\n        vertical-align: top;\n    }\n\n    .dataframe thead th {\n        text-align: right;\n    }\n</style>\n<table border=\"1\" class=\"dataframe\">\n  <thead>\n    <tr style=\"text-align: right;\">\n      <th></th>\n      <th>ID</th>\n      <th>Title</th>\n      <th>Year</th>\n      <th>Age</th>\n      <th>IMDb</th>\n      <th>Rotten_Tomatoes</th>\n      <th>Netflix</th>\n      <th>Hulu</th>\n      <th>Prime_Video</th>\n      <th>Disney</th>\n      <th>Type</th>\n    </tr>\n  </thead>\n  <tbody>\n    <tr>\n      <th>0</th>\n      <td>1</td>\n      <td>Breaking Bad</td>\n      <td>2008</td>\n      <td>18+</td>\n      <td>9.4/10</td>\n      <td>100/100</td>\n      <td>1</td>\n      <td>0</td>\n      <td>0</td>\n      <td>0</td>\n      <td>1</td>\n    </tr>\n    <tr>\n      <th>1</th>\n      <td>2</td>\n      <td>Stranger Things</td>\n      <td>2016</td>\n      <td>16+</td>\n      <td>8.7/10</td>\n      <td>96/100</td>\n      <td>1</td>\n      <td>0</td>\n      <td>0</td>\n      <td>0</td>\n      <td>1</td>\n    </tr>\n    <tr>\n      <th>2</th>\n      <td>3</td>\n      <td>Attack on Titan</td>\n      <td>2013</td>\n      <td>18+</td>\n      <td>9.0/10</td>\n      <td>95/100</td>\n      <td>1</td>\n      <td>1</td>\n      <td>0</td>\n      <td>0</td>\n      <td>1</td>\n    </tr>\n    <tr>\n      <th>3</th>\n      <td>4</td>\n      <td>Better Call Saul</td>\n      <td>2015</td>\n      <td>18+</td>\n      <td>8.8/10</td>\n      <td>94/100</td>\n      <td>1</td>\n      <td>0</td>\n      <td>0</td>\n      <td>0</td>\n      <td>1</td>\n    </tr>\n    <tr>\n      <th>4</th>\n      <td>5</td>\n      <td>Dark</td>\n      <td>2017</td>\n      <td>16+</td>\n      <td>8.8/10</td>\n      <td>93/100</td>\n      <td>1</td>\n      <td>0</td>\n      <td>0</td>\n      <td>0</td>\n      <td>1</td>\n    </tr>\n    <tr>\n      <th>5</th>\n      <td>6</td>\n      <td>Avatar: The Last Airbender</td>\n      <td>2005</td>\n      <td>7+</td>\n      <td>9.3/10</td>\n      <td>93/100</td>\n      <td>1</td>\n      <td>0</td>\n      <td>1</td>\n      <td>0</td>\n      <td>1</td>\n    </tr>\n    <tr>\n      <th>6</th>\n      <td>7</td>\n      <td>Peaky Blinders</td>\n      <td>2013</td>\n      <td>18+</td>\n      <td>8.8/10</td>\n      <td>93/100</td>\n      <td>1</td>\n      <td>0</td>\n      <td>0</td>\n      <td>0</td>\n      <td>1</td>\n    </tr>\n    <tr>\n      <th>7</th>\n      <td>8</td>\n      <td>The Walking Dead</td>\n      <td>2010</td>\n      <td>18+</td>\n      <td>8.2/10</td>\n      <td>93/100</td>\n      <td>1</td>\n      <td>0</td>\n      <td>0</td>\n      <td>0</td>\n      <td>1</td>\n    </tr>\n    <tr>\n      <th>8</th>\n      <td>9</td>\n      <td>Black Mirror</td>\n      <td>2011</td>\n      <td>18+</td>\n      <td>8.8/10</td>\n      <td>92/100</td>\n      <td>1</td>\n      <td>0</td>\n      <td>0</td>\n      <td>0</td>\n      <td>1</td>\n    </tr>\n    <tr>\n      <th>9</th>\n      <td>10</td>\n      <td>The Queen's Gambit</td>\n      <td>2020</td>\n      <td>18+</td>\n      <td>8.6/10</td>\n      <td>92/100</td>\n      <td>1</td>\n      <td>0</td>\n      <td>0</td>\n      <td>0</td>\n      <td>1</td>\n    </tr>\n  </tbody>\n</table>\n</div>"
                    },
                    "metadata": {},
                    "execution_count": 10,
                    "output_type": "execute_result"
                }
            ],
            "execution_count": 10
        },
        {
            "cell_type": "code",
            "source": [
                "df.info()"
            ],
            "metadata": {
                "language": "python",
                "azdata_cell_guid": "700257c5-dfb7-49ca-907a-54d0f06004a8"
            },
            "outputs": [
                {
                    "name": "stdout",
                    "text": "<class 'pandas.core.frame.DataFrame'>\nRangeIndex: 5368 entries, 0 to 5367\nData columns (total 11 columns):\n #   Column           Non-Null Count  Dtype \n---  ------           --------------  ----- \n 0   ID               5368 non-null   int64 \n 1   Title            5368 non-null   object\n 2   Year             5368 non-null   int64 \n 3   Age              3241 non-null   object\n 4   IMDb             4406 non-null   object\n 5   Rotten_Tomatoes  5368 non-null   object\n 6   Netflix          5368 non-null   int64 \n 7   Hulu             5368 non-null   int64 \n 8   Prime_Video      5368 non-null   int64 \n 9   Disney           5368 non-null   int64 \n 10  Type             5368 non-null   int64 \ndtypes: int64(7), object(4)\nmemory usage: 461.4+ KB\n",
                    "output_type": "stream"
                }
            ],
            "execution_count": 11
        },
        {
            "cell_type": "code",
            "source": [
                "df.columns"
            ],
            "metadata": {
                "language": "python",
                "azdata_cell_guid": "b2780c55-39ac-4822-bcfa-162a49a9194b"
            },
            "outputs": [
                {
                    "data": {
                        "text/plain": "Index(['ID', 'Title', 'Year', 'Age', 'IMDb', 'Rotten_Tomatoes', 'Netflix',\n       'Hulu', 'Prime_Video', 'Disney', 'Type'],\n      dtype='object')"
                    },
                    "metadata": {},
                    "execution_count": 12,
                    "output_type": "execute_result"
                }
            ],
            "execution_count": 12
        },
        {
            "cell_type": "markdown",
            "source": [
                "With your dataframe at the ready, create a new database called `tv`. Add a new table to your database called `shows` using the data in the dataframe. "
            ],
            "metadata": {
                "azdata_cell_guid": "93875e01-f1ec-45ab-b8b3-c0fe09c89c41"
            },
            "attachments": {}
        },
        {
            "cell_type": "code",
            "source": [
                "con.execute ('DROP TABLE shows')"
            ],
            "metadata": {
                "language": "python",
                "azdata_cell_guid": "0608acc0-ae0b-4716-9820-d734b4356ee3"
            },
            "outputs": [
                {
                    "data": {
                        "text/plain": "<sqlite3.Cursor at 0x21a7b764b90>"
                    },
                    "metadata": {},
                    "execution_count": 15,
                    "output_type": "execute_result"
                }
            ],
            "execution_count": 15
        },
        {
            "cell_type": "code",
            "source": [
                "con = sl.connect('tv.db')\r\n",
                ""
            ],
            "metadata": {
                "azdata_cell_guid": "cae4affc-d930-4649-9c39-551475a83b5b",
                "tags": [],
                "language": "python"
            },
            "outputs": [],
            "execution_count": 14
        },
        {
            "cell_type": "markdown",
            "source": [
                "With your new table and database set up, print out the top 20 records in the `shows` table."
            ],
            "metadata": {
                "azdata_cell_guid": "4916f211-149f-467b-b5e4-22ad946b54f2"
            },
            "attachments": {}
        },
        {
            "cell_type": "code",
            "source": [
                "df.to_sql('shows', con)"
            ],
            "metadata": {
                "azdata_cell_guid": "c6aa3980-3eef-4d7d-8f04-961508662147",
                "tags": [],
                "language": "python"
            },
            "outputs": [
                {
                    "data": {
                        "text/plain": "5368"
                    },
                    "metadata": {},
                    "execution_count": 16,
                    "output_type": "execute_result"
                }
            ],
            "execution_count": 16
        },
        {
            "cell_type": "code",
            "source": [
                "with con:\r\n",
                "   data=con.execute('SELECT * FROM shows LIMIT 20') \r\n",
                "   for row in data:\r\n",
                "       print (row)"
            ],
            "metadata": {
                "language": "python",
                "azdata_cell_guid": "82cb73ac-d832-4c10-aad8-d596eb727d13"
            },
            "outputs": [
                {
                    "name": "stdout",
                    "text": "(0, 1, 'Breaking Bad', 2008, '18+', '9.4/10', '100/100', 1, 0, 0, 0, 1)\n(1, 2, 'Stranger Things', 2016, '16+', '8.7/10', '96/100', 1, 0, 0, 0, 1)\n(2, 3, 'Attack on Titan', 2013, '18+', '9.0/10', '95/100', 1, 1, 0, 0, 1)\n(3, 4, 'Better Call Saul', 2015, '18+', '8.8/10', '94/100', 1, 0, 0, 0, 1)\n(4, 5, 'Dark', 2017, '16+', '8.8/10', '93/100', 1, 0, 0, 0, 1)\n(5, 6, 'Avatar: The Last Airbender', 2005, '7+', '9.3/10', '93/100', 1, 0, 1, 0, 1)\n(6, 7, 'Peaky Blinders', 2013, '18+', '8.8/10', '93/100', 1, 0, 0, 0, 1)\n(7, 8, 'The Walking Dead', 2010, '18+', '8.2/10', '93/100', 1, 0, 0, 0, 1)\n(8, 9, 'Black Mirror', 2011, '18+', '8.8/10', '92/100', 1, 0, 0, 0, 1)\n(9, 10, \"The Queen's Gambit\", 2020, '18+', '8.6/10', '92/100', 1, 0, 0, 0, 1)\n(10, 11, 'Mindhunter', 2017, '18+', '8.6/10', '90/100', 1, 0, 0, 0, 1)\n(11, 12, 'Community', 2009, '7+', '8.5/10', '90/100', 1, 1, 1, 0, 1)\n(12, 13, 'Narcos', 2015, '18+', '8.8/10', '90/100', 1, 0, 0, 0, 1)\n(13, 14, 'Shameless', 2011, '18+', '8.5/10', '90/100', 1, 1, 1, 0, 1)\n(14, 15, 'Money Heist', 2017, '18+', '8.3/10', '90/100', 1, 0, 0, 0, 1)\n(15, 16, \"Marvel's Daredevil\", 2015, '18+', '8.6/10', '90/100', 1, 0, 0, 0, 1)\n(16, 17, 'Lucifer', 2016, '16+', '8.1/10', '90/100', 1, 0, 0, 0, 1)\n(17, 18, 'Supernatural', 2005, '16+', '8.4/10', '89/100', 1, 0, 0, 0, 1)\n(18, 19, 'The Witcher', 2019, '18+', '8.2/10', '89/100', 1, 0, 0, 0, 1)\n(19, 20, 'Ozark', 2017, '18+', '8.4/10', '89/100', 1, 0, 0, 0, 1)\n",
                    "output_type": "stream"
                }
            ],
            "execution_count": 17
        },
        {
            "cell_type": "code",
            "source": [
                "pd.read_sql_query('SELECT * FROM shows LIMIT 20', con)"
            ],
            "metadata": {
                "language": "python",
                "azdata_cell_guid": "f63715a0-7048-48a1-af33-6743278db737"
            },
            "outputs": [
                {
                    "data": {
                        "text/plain": "    index  ID                       Title  Year  Age    IMDb Rotten_Tomatoes  \\\n0       0   1                Breaking Bad  2008  18+  9.4/10         100/100   \n1       1   2             Stranger Things  2016  16+  8.7/10          96/100   \n2       2   3             Attack on Titan  2013  18+  9.0/10          95/100   \n3       3   4            Better Call Saul  2015  18+  8.8/10          94/100   \n4       4   5                        Dark  2017  16+  8.8/10          93/100   \n5       5   6  Avatar: The Last Airbender  2005   7+  9.3/10          93/100   \n6       6   7              Peaky Blinders  2013  18+  8.8/10          93/100   \n7       7   8            The Walking Dead  2010  18+  8.2/10          93/100   \n8       8   9                Black Mirror  2011  18+  8.8/10          92/100   \n9       9  10          The Queen's Gambit  2020  18+  8.6/10          92/100   \n10     10  11                  Mindhunter  2017  18+  8.6/10          90/100   \n11     11  12                   Community  2009   7+  8.5/10          90/100   \n12     12  13                      Narcos  2015  18+  8.8/10          90/100   \n13     13  14                   Shameless  2011  18+  8.5/10          90/100   \n14     14  15                 Money Heist  2017  18+  8.3/10          90/100   \n15     15  16          Marvel's Daredevil  2015  18+  8.6/10          90/100   \n16     16  17                     Lucifer  2016  16+  8.1/10          90/100   \n17     17  18                Supernatural  2005  16+  8.4/10          89/100   \n18     18  19                 The Witcher  2019  18+  8.2/10          89/100   \n19     19  20                       Ozark  2017  18+  8.4/10          89/100   \n\n    Netflix  Hulu  Prime_Video  Disney  Type  \n0         1     0            0       0     1  \n1         1     0            0       0     1  \n2         1     1            0       0     1  \n3         1     0            0       0     1  \n4         1     0            0       0     1  \n5         1     0            1       0     1  \n6         1     0            0       0     1  \n7         1     0            0       0     1  \n8         1     0            0       0     1  \n9         1     0            0       0     1  \n10        1     0            0       0     1  \n11        1     1            1       0     1  \n12        1     0            0       0     1  \n13        1     1            1       0     1  \n14        1     0            0       0     1  \n15        1     0            0       0     1  \n16        1     0            0       0     1  \n17        1     0            0       0     1  \n18        1     0            0       0     1  \n19        1     0            0       0     1  ",
                        "text/html": "<div>\n<style scoped>\n    .dataframe tbody tr th:only-of-type {\n        vertical-align: middle;\n    }\n\n    .dataframe tbody tr th {\n        vertical-align: top;\n    }\n\n    .dataframe thead th {\n        text-align: right;\n    }\n</style>\n<table border=\"1\" class=\"dataframe\">\n  <thead>\n    <tr style=\"text-align: right;\">\n      <th></th>\n      <th>index</th>\n      <th>ID</th>\n      <th>Title</th>\n      <th>Year</th>\n      <th>Age</th>\n      <th>IMDb</th>\n      <th>Rotten_Tomatoes</th>\n      <th>Netflix</th>\n      <th>Hulu</th>\n      <th>Prime_Video</th>\n      <th>Disney</th>\n      <th>Type</th>\n    </tr>\n  </thead>\n  <tbody>\n    <tr>\n      <th>0</th>\n      <td>0</td>\n      <td>1</td>\n      <td>Breaking Bad</td>\n      <td>2008</td>\n      <td>18+</td>\n      <td>9.4/10</td>\n      <td>100/100</td>\n      <td>1</td>\n      <td>0</td>\n      <td>0</td>\n      <td>0</td>\n      <td>1</td>\n    </tr>\n    <tr>\n      <th>1</th>\n      <td>1</td>\n      <td>2</td>\n      <td>Stranger Things</td>\n      <td>2016</td>\n      <td>16+</td>\n      <td>8.7/10</td>\n      <td>96/100</td>\n      <td>1</td>\n      <td>0</td>\n      <td>0</td>\n      <td>0</td>\n      <td>1</td>\n    </tr>\n    <tr>\n      <th>2</th>\n      <td>2</td>\n      <td>3</td>\n      <td>Attack on Titan</td>\n      <td>2013</td>\n      <td>18+</td>\n      <td>9.0/10</td>\n      <td>95/100</td>\n      <td>1</td>\n      <td>1</td>\n      <td>0</td>\n      <td>0</td>\n      <td>1</td>\n    </tr>\n    <tr>\n      <th>3</th>\n      <td>3</td>\n      <td>4</td>\n      <td>Better Call Saul</td>\n      <td>2015</td>\n      <td>18+</td>\n      <td>8.8/10</td>\n      <td>94/100</td>\n      <td>1</td>\n      <td>0</td>\n      <td>0</td>\n      <td>0</td>\n      <td>1</td>\n    </tr>\n    <tr>\n      <th>4</th>\n      <td>4</td>\n      <td>5</td>\n      <td>Dark</td>\n      <td>2017</td>\n      <td>16+</td>\n      <td>8.8/10</td>\n      <td>93/100</td>\n      <td>1</td>\n      <td>0</td>\n      <td>0</td>\n      <td>0</td>\n      <td>1</td>\n    </tr>\n    <tr>\n      <th>5</th>\n      <td>5</td>\n      <td>6</td>\n      <td>Avatar: The Last Airbender</td>\n      <td>2005</td>\n      <td>7+</td>\n      <td>9.3/10</td>\n      <td>93/100</td>\n      <td>1</td>\n      <td>0</td>\n      <td>1</td>\n      <td>0</td>\n      <td>1</td>\n    </tr>\n    <tr>\n      <th>6</th>\n      <td>6</td>\n      <td>7</td>\n      <td>Peaky Blinders</td>\n      <td>2013</td>\n      <td>18+</td>\n      <td>8.8/10</td>\n      <td>93/100</td>\n      <td>1</td>\n      <td>0</td>\n      <td>0</td>\n      <td>0</td>\n      <td>1</td>\n    </tr>\n    <tr>\n      <th>7</th>\n      <td>7</td>\n      <td>8</td>\n      <td>The Walking Dead</td>\n      <td>2010</td>\n      <td>18+</td>\n      <td>8.2/10</td>\n      <td>93/100</td>\n      <td>1</td>\n      <td>0</td>\n      <td>0</td>\n      <td>0</td>\n      <td>1</td>\n    </tr>\n    <tr>\n      <th>8</th>\n      <td>8</td>\n      <td>9</td>\n      <td>Black Mirror</td>\n      <td>2011</td>\n      <td>18+</td>\n      <td>8.8/10</td>\n      <td>92/100</td>\n      <td>1</td>\n      <td>0</td>\n      <td>0</td>\n      <td>0</td>\n      <td>1</td>\n    </tr>\n    <tr>\n      <th>9</th>\n      <td>9</td>\n      <td>10</td>\n      <td>The Queen's Gambit</td>\n      <td>2020</td>\n      <td>18+</td>\n      <td>8.6/10</td>\n      <td>92/100</td>\n      <td>1</td>\n      <td>0</td>\n      <td>0</td>\n      <td>0</td>\n      <td>1</td>\n    </tr>\n    <tr>\n      <th>10</th>\n      <td>10</td>\n      <td>11</td>\n      <td>Mindhunter</td>\n      <td>2017</td>\n      <td>18+</td>\n      <td>8.6/10</td>\n      <td>90/100</td>\n      <td>1</td>\n      <td>0</td>\n      <td>0</td>\n      <td>0</td>\n      <td>1</td>\n    </tr>\n    <tr>\n      <th>11</th>\n      <td>11</td>\n      <td>12</td>\n      <td>Community</td>\n      <td>2009</td>\n      <td>7+</td>\n      <td>8.5/10</td>\n      <td>90/100</td>\n      <td>1</td>\n      <td>1</td>\n      <td>1</td>\n      <td>0</td>\n      <td>1</td>\n    </tr>\n    <tr>\n      <th>12</th>\n      <td>12</td>\n      <td>13</td>\n      <td>Narcos</td>\n      <td>2015</td>\n      <td>18+</td>\n      <td>8.8/10</td>\n      <td>90/100</td>\n      <td>1</td>\n      <td>0</td>\n      <td>0</td>\n      <td>0</td>\n      <td>1</td>\n    </tr>\n    <tr>\n      <th>13</th>\n      <td>13</td>\n      <td>14</td>\n      <td>Shameless</td>\n      <td>2011</td>\n      <td>18+</td>\n      <td>8.5/10</td>\n      <td>90/100</td>\n      <td>1</td>\n      <td>1</td>\n      <td>1</td>\n      <td>0</td>\n      <td>1</td>\n    </tr>\n    <tr>\n      <th>14</th>\n      <td>14</td>\n      <td>15</td>\n      <td>Money Heist</td>\n      <td>2017</td>\n      <td>18+</td>\n      <td>8.3/10</td>\n      <td>90/100</td>\n      <td>1</td>\n      <td>0</td>\n      <td>0</td>\n      <td>0</td>\n      <td>1</td>\n    </tr>\n    <tr>\n      <th>15</th>\n      <td>15</td>\n      <td>16</td>\n      <td>Marvel's Daredevil</td>\n      <td>2015</td>\n      <td>18+</td>\n      <td>8.6/10</td>\n      <td>90/100</td>\n      <td>1</td>\n      <td>0</td>\n      <td>0</td>\n      <td>0</td>\n      <td>1</td>\n    </tr>\n    <tr>\n      <th>16</th>\n      <td>16</td>\n      <td>17</td>\n      <td>Lucifer</td>\n      <td>2016</td>\n      <td>16+</td>\n      <td>8.1/10</td>\n      <td>90/100</td>\n      <td>1</td>\n      <td>0</td>\n      <td>0</td>\n      <td>0</td>\n      <td>1</td>\n    </tr>\n    <tr>\n      <th>17</th>\n      <td>17</td>\n      <td>18</td>\n      <td>Supernatural</td>\n      <td>2005</td>\n      <td>16+</td>\n      <td>8.4/10</td>\n      <td>89/100</td>\n      <td>1</td>\n      <td>0</td>\n      <td>0</td>\n      <td>0</td>\n      <td>1</td>\n    </tr>\n    <tr>\n      <th>18</th>\n      <td>18</td>\n      <td>19</td>\n      <td>The Witcher</td>\n      <td>2019</td>\n      <td>18+</td>\n      <td>8.2/10</td>\n      <td>89/100</td>\n      <td>1</td>\n      <td>0</td>\n      <td>0</td>\n      <td>0</td>\n      <td>1</td>\n    </tr>\n    <tr>\n      <th>19</th>\n      <td>19</td>\n      <td>20</td>\n      <td>Ozark</td>\n      <td>2017</td>\n      <td>18+</td>\n      <td>8.4/10</td>\n      <td>89/100</td>\n      <td>1</td>\n      <td>0</td>\n      <td>0</td>\n      <td>0</td>\n      <td>1</td>\n    </tr>\n  </tbody>\n</table>\n</div>"
                    },
                    "metadata": {},
                    "execution_count": 18,
                    "output_type": "execute_result"
                }
            ],
            "execution_count": 18
        },
        {
            "cell_type": "markdown",
            "source": [
                "Now add a table that includes an id number and the titles on your watchlist."
            ],
            "metadata": {
                "azdata_cell_guid": "f158ccd2-c87a-4d2c-a947-0eadd0484a3e"
            },
            "attachments": {}
        },
        {
            "cell_type": "code",
            "source": [
                "con.execute('DROP TABLE watchlist')"
            ],
            "metadata": {
                "language": "python",
                "azdata_cell_guid": "c701b02d-0d12-4f6c-9533-f661d158daee"
            },
            "outputs": [
                {
                    "data": {
                        "text/plain": "<sqlite3.Cursor at 0x21a7b7770a0>"
                    },
                    "metadata": {},
                    "execution_count": 19,
                    "output_type": "execute_result"
                }
            ],
            "execution_count": 19
        },
        {
            "cell_type": "code",
            "source": [
                "with con:\r\n",
                "    con.execute(\"\"\"\r\n",
                "        CREATE TABLE watchlist (\r\n",
                "            ID INT,\r\n",
                "            Title TEXT\r\n",
                "        );\r\n",
                "    \"\"\")"
            ],
            "metadata": {
                "azdata_cell_guid": "f95defad-521b-4112-8435-08daaac80b80",
                "language": "python"
            },
            "outputs": [],
            "execution_count": 20
        },
        {
            "cell_type": "code",
            "source": [
                "sql = 'INSERT INTO watchlist (ID, Title) values(?,?)'\r\n",
                "data = [(1, 'SQUID GAME'),\r\n",
                "   (2, 'THE BIG BANG THEORY'),\r\n",
                "  (3, 'YOU'),\r\n",
                "  (4, 'OZARK'),\r\n",
                " (5, 'THE SIMPSONS'),\r\n",
                " (6, 'ONLY MURDERS IN THE BUILDING'),\r\n",
                " (7, 'THE HAUNTING OF HILL HOUSE'),\r\n",
                " (8, 'BRIDGERTON'),\r\n",
                " (9, 'HOW I MET YOUR MOTHER'),\r\n",
                " (10, 'BREAKING BAD')]\r\n",
                "\r\n",
                "\r\n",
                "with con:\r\n",
                "    con.executemany(sql, data)\r\n",
                "\r\n",
                ""
            ],
            "metadata": {
                "language": "python",
                "azdata_cell_guid": "ba5e0965-fdc9-4cba-bc40-a2b3e5a8f9a9"
            },
            "outputs": [],
            "execution_count": 21
        },
        {
            "cell_type": "code",
            "source": [
                "pd.read_sql_query('SELECT * FROM watchlist', con)"
            ],
            "metadata": {
                "language": "python",
                "azdata_cell_guid": "9ed6f5a3-4018-4616-b263-9f438b337d16"
            },
            "outputs": [
                {
                    "data": {
                        "text/plain": "   ID                         Title\n0   1                    SQUID GAME\n1   2           THE BIG BANG THEORY\n2   3                           YOU\n3   4                         OZARK\n4   5                  THE SIMPSONS\n5   6  ONLY MURDERS IN THE BUILDING\n6   7    THE HAUNTING OF HILL HOUSE\n7   8                    BRIDGERTON\n8   9         HOW I MET YOUR MOTHER\n9  10                  BREAKING BAD",
                        "text/html": "<div>\n<style scoped>\n    .dataframe tbody tr th:only-of-type {\n        vertical-align: middle;\n    }\n\n    .dataframe tbody tr th {\n        vertical-align: top;\n    }\n\n    .dataframe thead th {\n        text-align: right;\n    }\n</style>\n<table border=\"1\" class=\"dataframe\">\n  <thead>\n    <tr style=\"text-align: right;\">\n      <th></th>\n      <th>ID</th>\n      <th>Title</th>\n    </tr>\n  </thead>\n  <tbody>\n    <tr>\n      <th>0</th>\n      <td>1</td>\n      <td>SQUID GAME</td>\n    </tr>\n    <tr>\n      <th>1</th>\n      <td>2</td>\n      <td>THE BIG BANG THEORY</td>\n    </tr>\n    <tr>\n      <th>2</th>\n      <td>3</td>\n      <td>YOU</td>\n    </tr>\n    <tr>\n      <th>3</th>\n      <td>4</td>\n      <td>OZARK</td>\n    </tr>\n    <tr>\n      <th>4</th>\n      <td>5</td>\n      <td>THE SIMPSONS</td>\n    </tr>\n    <tr>\n      <th>5</th>\n      <td>6</td>\n      <td>ONLY MURDERS IN THE BUILDING</td>\n    </tr>\n    <tr>\n      <th>6</th>\n      <td>7</td>\n      <td>THE HAUNTING OF HILL HOUSE</td>\n    </tr>\n    <tr>\n      <th>7</th>\n      <td>8</td>\n      <td>BRIDGERTON</td>\n    </tr>\n    <tr>\n      <th>8</th>\n      <td>9</td>\n      <td>HOW I MET YOUR MOTHER</td>\n    </tr>\n    <tr>\n      <th>9</th>\n      <td>10</td>\n      <td>BREAKING BAD</td>\n    </tr>\n  </tbody>\n</table>\n</div>"
                    },
                    "metadata": {},
                    "execution_count": 22,
                    "output_type": "execute_result"
                }
            ],
            "execution_count": 22
        },
        {
            "cell_type": "markdown",
            "source": [
                "## Working with the Data\n",
                "\n",
                "Using either Pandas or SQL, determine how many shows are on each streaming service and what the mean is for each streaming service. \n",
                "\n",
                "**Note**: You may notice that the mean represents the percentage of shows in the dataframe that are on each streaming service. Take a moment to think about why that is."
            ],
            "metadata": {
                "azdata_cell_guid": "4716090d-63e3-4283-8245-934c4a28c750"
            },
            "attachments": {}
        },
        {
            "cell_type": "code",
            "source": [
                "cols=['Netflix', 'Hulu', 'Prime_Video', 'Disney']\r\n",
                "df[cols].sum()"
            ],
            "metadata": {
                "azdata_cell_guid": "8e4f3757-474f-4e20-b861-db973437b541",
                "language": "python"
            },
            "outputs": [
                {
                    "data": {
                        "text/plain": "Netflix        1971\nHulu           1621\nPrime_Video    1831\nDisney          351\ndtype: int64"
                    },
                    "metadata": {},
                    "execution_count": 23,
                    "output_type": "execute_result"
                }
            ],
            "execution_count": 23
        },
        {
            "cell_type": "code",
            "source": [
                "show_mean=df[cols].mean().round(4)\r\n",
                "\r\n",
                "show_mean"
            ],
            "metadata": {
                "language": "python",
                "azdata_cell_guid": "aa0b50c6-18a9-4fae-8fd4-d9584bfb16e2"
            },
            "outputs": [
                {
                    "data": {
                        "text/plain": "Netflix        0.3672\nHulu           0.3020\nPrime_Video    0.3411\nDisney         0.0654\ndtype: float64"
                    },
                    "metadata": {},
                    "execution_count": 24,
                    "output_type": "execute_result"
                }
            ],
            "execution_count": 24
        },
        {
            "cell_type": "code",
            "source": [
                "show_mean*100"
            ],
            "metadata": {
                "language": "python",
                "azdata_cell_guid": "b4535f93-882a-4f8e-9348-a7db675ce720"
            },
            "outputs": [
                {
                    "data": {
                        "text/plain": "Netflix        36.72\nHulu           30.20\nPrime_Video    34.11\nDisney          6.54\ndtype: float64"
                    },
                    "metadata": {},
                    "execution_count": 25,
                    "output_type": "execute_result"
                }
            ],
            "execution_count": 25
        },
        {
            "cell_type": "markdown",
            "source": [
                "1. Join your watchlist data with the shows data to determine which streaming services your watchlist shows are on and make a new table in your database using the joined data.\r\n",
                "\r\n",
                "2. Print out the data in your joined table to see what shows on your watchlist on in the original dataset. \r\n",
                "\r\n",
                "3. With the joined data, determine the percentage of your watchlist shows that are on each streaming service and how many of your watchlist shows are on each streaming service."
            ],
            "metadata": {
                "azdata_cell_guid": "167cbd0d-ad9f-4f27-8066-e45dfdfaf421"
            },
            "attachments": {}
        },
        {
            "cell_type": "code",
            "source": [
                "watch_shows = pd.read_sql('''\r\n",
                "    SELECT w.ID, w.Title, s.Year, s.Age, s.IMDb, s.Rotten_Tomatoes, s.Netflix, s.Hulu, s.Prime_Video, s.Disney, s.Type\r\n",
                "    FROM watchlist w LEFT JOIN shows s ON UPPER(w.Title) = UPPER(s.Title)\r\n",
                "''', con)\r\n",
                "\r\n",
                "watch_shows\r\n",
                ""
            ],
            "metadata": {
                "azdata_cell_guid": "b871523e-a476-4f3a-a6ac-2e251f140e84",
                "language": "python"
            },
            "outputs": [
                {
                    "data": {
                        "text/plain": "   ID                         Title    Year   Age    IMDb Rotten_Tomatoes  \\\n0   1                    SQUID GAME     NaN  None    None            None   \n1   2           THE BIG BANG THEORY     NaN  None    None            None   \n2   3                           YOU  2018.0   18+  7.7/10          85/100   \n3   4                         OZARK  2017.0   18+  8.4/10          89/100   \n4   5                  THE SIMPSONS  1989.0    7+  8.6/10          91/100   \n5   6  ONLY MURDERS IN THE BUILDING     NaN  None    None            None   \n6   7    THE HAUNTING OF HILL HOUSE  2018.0   18+  8.6/10          82/100   \n7   8                    BRIDGERTON  2020.0  None  7.3/10          79/100   \n8   9         HOW I MET YOUR MOTHER  2005.0   16+  8.3/10          90/100   \n9  10                  BREAKING BAD  2008.0   18+  9.4/10         100/100   \n\n   Netflix  Hulu  Prime_Video  Disney  Type  \n0      NaN   NaN          NaN     NaN   NaN  \n1      NaN   NaN          NaN     NaN   NaN  \n2      1.0   0.0          0.0     0.0   1.0  \n3      1.0   0.0          0.0     0.0   1.0  \n4      0.0   1.0          0.0     1.0   1.0  \n5      NaN   NaN          NaN     NaN   NaN  \n6      1.0   0.0          0.0     0.0   1.0  \n7      1.0   0.0          0.0     0.0   1.0  \n8      0.0   1.0          1.0     0.0   1.0  \n9      1.0   0.0          0.0     0.0   1.0  ",
                        "text/html": "<div>\n<style scoped>\n    .dataframe tbody tr th:only-of-type {\n        vertical-align: middle;\n    }\n\n    .dataframe tbody tr th {\n        vertical-align: top;\n    }\n\n    .dataframe thead th {\n        text-align: right;\n    }\n</style>\n<table border=\"1\" class=\"dataframe\">\n  <thead>\n    <tr style=\"text-align: right;\">\n      <th></th>\n      <th>ID</th>\n      <th>Title</th>\n      <th>Year</th>\n      <th>Age</th>\n      <th>IMDb</th>\n      <th>Rotten_Tomatoes</th>\n      <th>Netflix</th>\n      <th>Hulu</th>\n      <th>Prime_Video</th>\n      <th>Disney</th>\n      <th>Type</th>\n    </tr>\n  </thead>\n  <tbody>\n    <tr>\n      <th>0</th>\n      <td>1</td>\n      <td>SQUID GAME</td>\n      <td>NaN</td>\n      <td>None</td>\n      <td>None</td>\n      <td>None</td>\n      <td>NaN</td>\n      <td>NaN</td>\n      <td>NaN</td>\n      <td>NaN</td>\n      <td>NaN</td>\n    </tr>\n    <tr>\n      <th>1</th>\n      <td>2</td>\n      <td>THE BIG BANG THEORY</td>\n      <td>NaN</td>\n      <td>None</td>\n      <td>None</td>\n      <td>None</td>\n      <td>NaN</td>\n      <td>NaN</td>\n      <td>NaN</td>\n      <td>NaN</td>\n      <td>NaN</td>\n    </tr>\n    <tr>\n      <th>2</th>\n      <td>3</td>\n      <td>YOU</td>\n      <td>2018.0</td>\n      <td>18+</td>\n      <td>7.7/10</td>\n      <td>85/100</td>\n      <td>1.0</td>\n      <td>0.0</td>\n      <td>0.0</td>\n      <td>0.0</td>\n      <td>1.0</td>\n    </tr>\n    <tr>\n      <th>3</th>\n      <td>4</td>\n      <td>OZARK</td>\n      <td>2017.0</td>\n      <td>18+</td>\n      <td>8.4/10</td>\n      <td>89/100</td>\n      <td>1.0</td>\n      <td>0.0</td>\n      <td>0.0</td>\n      <td>0.0</td>\n      <td>1.0</td>\n    </tr>\n    <tr>\n      <th>4</th>\n      <td>5</td>\n      <td>THE SIMPSONS</td>\n      <td>1989.0</td>\n      <td>7+</td>\n      <td>8.6/10</td>\n      <td>91/100</td>\n      <td>0.0</td>\n      <td>1.0</td>\n      <td>0.0</td>\n      <td>1.0</td>\n      <td>1.0</td>\n    </tr>\n    <tr>\n      <th>5</th>\n      <td>6</td>\n      <td>ONLY MURDERS IN THE BUILDING</td>\n      <td>NaN</td>\n      <td>None</td>\n      <td>None</td>\n      <td>None</td>\n      <td>NaN</td>\n      <td>NaN</td>\n      <td>NaN</td>\n      <td>NaN</td>\n      <td>NaN</td>\n    </tr>\n    <tr>\n      <th>6</th>\n      <td>7</td>\n      <td>THE HAUNTING OF HILL HOUSE</td>\n      <td>2018.0</td>\n      <td>18+</td>\n      <td>8.6/10</td>\n      <td>82/100</td>\n      <td>1.0</td>\n      <td>0.0</td>\n      <td>0.0</td>\n      <td>0.0</td>\n      <td>1.0</td>\n    </tr>\n    <tr>\n      <th>7</th>\n      <td>8</td>\n      <td>BRIDGERTON</td>\n      <td>2020.0</td>\n      <td>None</td>\n      <td>7.3/10</td>\n      <td>79/100</td>\n      <td>1.0</td>\n      <td>0.0</td>\n      <td>0.0</td>\n      <td>0.0</td>\n      <td>1.0</td>\n    </tr>\n    <tr>\n      <th>8</th>\n      <td>9</td>\n      <td>HOW I MET YOUR MOTHER</td>\n      <td>2005.0</td>\n      <td>16+</td>\n      <td>8.3/10</td>\n      <td>90/100</td>\n      <td>0.0</td>\n      <td>1.0</td>\n      <td>1.0</td>\n      <td>0.0</td>\n      <td>1.0</td>\n    </tr>\n    <tr>\n      <th>9</th>\n      <td>10</td>\n      <td>BREAKING BAD</td>\n      <td>2008.0</td>\n      <td>18+</td>\n      <td>9.4/10</td>\n      <td>100/100</td>\n      <td>1.0</td>\n      <td>0.0</td>\n      <td>0.0</td>\n      <td>0.0</td>\n      <td>1.0</td>\n    </tr>\n  </tbody>\n</table>\n</div>"
                    },
                    "metadata": {},
                    "execution_count": 26,
                    "output_type": "execute_result"
                }
            ],
            "execution_count": 26
        },
        {
            "cell_type": "code",
            "source": [
                "not_in_list = pd.read_sql('''\r\n",
                "    SELECT w.ID, w.Title FROM watchlist w LEFT JOIN shows s ON UPPER(w.Title) = UPPER(s.Title) \r\n",
                "    WHERE s.Year IS NULL\r\n",
                "''', con)\r\n",
                "\r\n",
                "not_in_list"
            ],
            "metadata": {
                "language": "python",
                "azdata_cell_guid": "0faa101c-6b7b-4d81-88fc-ed48dcd726b4"
            },
            "outputs": [
                {
                    "data": {
                        "text/plain": "   ID                         Title\n0   1                    SQUID GAME\n1   2           THE BIG BANG THEORY\n2   6  ONLY MURDERS IN THE BUILDING",
                        "text/html": "<div>\n<style scoped>\n    .dataframe tbody tr th:only-of-type {\n        vertical-align: middle;\n    }\n\n    .dataframe tbody tr th {\n        vertical-align: top;\n    }\n\n    .dataframe thead th {\n        text-align: right;\n    }\n</style>\n<table border=\"1\" class=\"dataframe\">\n  <thead>\n    <tr style=\"text-align: right;\">\n      <th></th>\n      <th>ID</th>\n      <th>Title</th>\n    </tr>\n  </thead>\n  <tbody>\n    <tr>\n      <th>0</th>\n      <td>1</td>\n      <td>SQUID GAME</td>\n    </tr>\n    <tr>\n      <th>1</th>\n      <td>2</td>\n      <td>THE BIG BANG THEORY</td>\n    </tr>\n    <tr>\n      <th>2</th>\n      <td>6</td>\n      <td>ONLY MURDERS IN THE BUILDING</td>\n    </tr>\n  </tbody>\n</table>\n</div>"
                    },
                    "metadata": {},
                    "execution_count": 27,
                    "output_type": "execute_result"
                }
            ],
            "execution_count": 27
        },
        {
            "cell_type": "markdown",
            "source": [
                "**<mark>Find the percentage of watchlist shows on each service</mark>**"
            ],
            "metadata": {
                "language": "python",
                "azdata_cell_guid": "f50a4728-8b12-4881-8829-d07625d7e014"
            },
            "attachments": {}
        },
        {
            "cell_type": "code",
            "source": [
                "watch_shows[cols].sum()/watch_shows[cols].count()"
            ],
            "metadata": {
                "language": "python",
                "azdata_cell_guid": "9b2b4c5a-b673-4fed-bf3e-fd4b191befc2"
            },
            "outputs": [
                {
                    "data": {
                        "text/plain": "Netflix        0.714286\nHulu           0.285714\nPrime_Video    0.142857\nDisney         0.142857\ndtype: float64"
                    },
                    "metadata": {},
                    "execution_count": 28,
                    "output_type": "execute_result"
                }
            ],
            "execution_count": 28
        },
        {
            "cell_type": "code",
            "source": [
                "watch_shows[cols].mean().round(4)"
            ],
            "metadata": {
                "language": "python",
                "azdata_cell_guid": "a91bd38e-5e4a-41f4-99be-9fba96b90b21"
            },
            "outputs": [
                {
                    "data": {
                        "text/plain": "Netflix        0.7143\nHulu           0.2857\nPrime_Video    0.1429\nDisney         0.1429\ndtype: float64"
                    },
                    "metadata": {},
                    "execution_count": 30,
                    "output_type": "execute_result"
                }
            ],
            "execution_count": 30
        },
        {
            "cell_type": "code",
            "source": [
                "watch_shows[cols].sum()"
            ],
            "metadata": {
                "language": "python",
                "azdata_cell_guid": "122e84a7-a960-473e-9d19-16b4fd6451c2"
            },
            "outputs": [
                {
                    "data": {
                        "text/plain": "Netflix        5.0\nHulu           2.0\nPrime_Video    1.0\nDisney         1.0\ndtype: float64"
                    },
                    "metadata": {},
                    "execution_count": 29,
                    "output_type": "execute_result"
                }
            ],
            "execution_count": 29
        },
        {
            "cell_type": "markdown",
            "source": [
                "no need for varchar ect.\n",
                "\n",
                "  \n",
                "\n",
                "Text\n",
                "\n",
                "Int\n",
                "\n",
                "Real (for float)\n",
                "\n",
                "Boolean"
            ],
            "metadata": {
                "azdata_cell_guid": "3dcaf6c1-907c-4d6f-8577-f425e424c0a6"
            },
            "attachments": {}
        },
        {
            "cell_type": "markdown",
            "source": [
                "## Results\n",
                "\n",
                "Now that you have done your analysis, make note of the answers to the following questions by editing the text cell:\n",
                "\n",
                "1. Was every show on your watchlist in the Kaggle dataset? Do you have any ideas as to why a show might not have been present?\n",
                "2. Did you include a show or shows in your watchlist that is exclusive to one of the platforms? How might that have impacted your analysis?\n",
                "2. Which streaming service(s) offered the most shows on your watchlist? Which streaming service(s) offered the least?\n",
                "3. Based on the shows you want to watch and the results of your analysis, is there a streaming service you think would be a good fit for you?"
            ],
            "metadata": {
                "azdata_cell_guid": "909689e4-1aae-41e3-b1f8-158ebe5ec3ca"
            }
        }
    ]
}